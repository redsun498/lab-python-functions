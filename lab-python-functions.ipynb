{
 "cells": [
  {
   "cell_type": "markdown",
   "id": "25d7736c-ba17-4aff-b6bb-66eba20fbf4e",
   "metadata": {},
   "source": [
    "# Lab | Functions"
   ]
  },
  {
   "cell_type": "markdown",
   "id": "0c581062-8967-4d93-b06e-62833222f930",
   "metadata": {
    "tags": []
   },
   "source": [
    "## Exercise: Managing Customer Orders with Functions\n",
    "\n",
    "In the previous exercise, you improved the code for managing customer orders by using loops and flow control. Now, let's take it a step further and refactor the code by introducing functions.\n",
    "\n",
    "Follow the steps below to complete the exercise:\n",
    "\n",
    "1. Define a function named `initialize_inventory` that takes `products` as a parameter. Inside the function, implement the code for initializing the inventory dictionary using a loop and user input.\n",
    "\n",
    "2. Define a function named `get_customer_orders` that takes no parameters. Inside the function, implement the code for prompting the user to enter the product names using a loop. The function should return the `customer_orders` set.\n",
    "\n",
    "3. Define a function named `update_inventory` that takes `customer_orders` and `inventory` as parameters. Inside the function, implement the code for updating the inventory dictionary based on the customer orders.\n",
    "\n",
    "4. Define a function named `calculate_order_statistics` that takes `customer_orders` and `products` as parameters. Inside the function, implement the code for calculating the order statistics (total products ordered, and percentage of unique products ordered). The function should return these values.\n",
    "\n",
    "5. Define a function named `print_order_statistics` that takes `order_statistics` as a parameter. Inside the function, implement the code for printing the order statistics.\n",
    "\n",
    "6. Define a function named `print_updated_inventory` that takes `inventory` as a parameter. Inside the function, implement the code for printing the updated inventory.\n",
    "\n",
    "7. Call the functions in the appropriate sequence to execute the program and manage customer orders.\n",
    "\n",
    "Hints for functions:\n",
    "\n",
    "- Consider the input parameters required for each function and their return values.\n",
    "- Utilize function parameters and return values to transfer data between functions.\n",
    "- Test your functions individually to ensure they work correctly.\n",
    "\n",
    "\n"
   ]
  },
  {
   "cell_type": "code",
   "execution_count": 66,
   "id": "d60a04bd",
   "metadata": {},
   "outputs": [
    {
     "name": "stdout",
     "output_type": "stream",
     "text": [
      "Enter the amount of ['mug', 'hat', 'book']: 5\n",
      "Enter the amount of ['mug', 'hat', 'book']: 7\n",
      "Enter the amount of ['mug', 'hat', 'book']: 9\n"
     ]
    }
   ],
   "source": [
    "def initialize_inventory(products):\n",
    "    '''Function named initialize_inventory that takes products as a parameter. \n",
    "       Inside the function, implement the code for initializing the inventory dictionary \n",
    "       using a loop and user input.\n",
    "    '''\n",
    "    inventory = {}\n",
    "    for product in products:\n",
    "        inventory [product] = inventory\n",
    "    for product in inventory:\n",
    "        amount = input(f'Enter the amount of {products}: ')\n",
    "        inventory[product] = int(amount)\n",
    "    return inventory \n",
    "products = ['mug','hat','book']\n",
    "inventory =  initialize_inventory(products)"
   ]
  },
  {
   "cell_type": "code",
   "execution_count": 53,
   "id": "7b507df0",
   "metadata": {},
   "outputs": [
    {
     "name": "stdout",
     "output_type": "stream",
     "text": [
      "Enter the product name: mug\n",
      "Do you want to order more products? yes\n",
      "Enter the product name: hat\n",
      "Do you want to order more products? no\n"
     ]
    }
   ],
   "source": [
    "def get_customer_orders(): \n",
    "    '''Function named get_customer_orders that takes no parameters. \n",
    "       Inside the function, implement the code for prompting the user to enter\n",
    "       the product names using a loop. The function should return the customer_orders set.\n",
    "    '''\n",
    "    customer_orders = set()\n",
    "    order=input('Enter the product name: ')\n",
    "    customer_orders.add(order)\n",
    "    choice = input('Do you want to order more products? ')\n",
    "    while choice.lower() == 'yes':\n",
    "        order=input('Enter the product name: ')\n",
    "        customer_orders.add(order)\n",
    "        choice = input('Do you want to order more products? ')\n",
    "    return customer_orders\n",
    "customer_orders = get_customer_orders()"
   ]
  },
  {
   "cell_type": "code",
   "execution_count": 54,
   "id": "417f39b7",
   "metadata": {},
   "outputs": [
    {
     "name": "stdout",
     "output_type": "stream",
     "text": [
      "{'mug': 5, 'hat': 4, 'book': 5}\n"
     ]
    }
   ],
   "source": [
    "def updated_inventory(customer_orders, products):\n",
    "    ''' Function named update_inventory that takes customer_orders and inventory as parameters. \n",
    "        Inside the function, implement the code for updating the inventory dictionary based on the customer orders.\n",
    "    ''' \n",
    "    for product in customer_orders:\n",
    "        inventory[product] -= 1\n",
    "        return inventory\n",
    "updated_inventory = update_inventory(customer_orders,products)"
   ]
  },
  {
   "cell_type": "code",
   "execution_count": 57,
   "id": "7223f7fb",
   "metadata": {},
   "outputs": [
    {
     "name": "stdout",
     "output_type": "stream",
     "text": [
      "(2, 0.14285714285714285)\n"
     ]
    }
   ],
   "source": [
    "def calculate_order_statistics(customer_orders, products):\n",
    "    ''' Function named calculate_order_statistics that takes customer_orders and products as parameters.\n",
    "        Inside the function, implement the code for calculating the order statistics \n",
    "        (total products ordered, and percentage of unique products ordered). The function should return these values.\n",
    "    '''\n",
    "    total_products_ordered = len(customer_orders)\n",
    "    percentage_unique_products_ordered=  total_products_ordered / sum(inventory.values()) *100\n",
    "    return total_products_ordered, percentage_unique_products_ordered\n",
    "\n",
    "order_statistics = calculate_order_statistics(customer_orders, products)\n",
    "print (order_statistics)"
   ]
  },
  {
   "cell_type": "code",
   "execution_count": 64,
   "id": "971d274e",
   "metadata": {},
   "outputs": [
    {
     "name": "stdout",
     "output_type": "stream",
     "text": [
      "(2, 14.285714285714285)\n"
     ]
    }
   ],
   "source": [
    "def print_order_statistics(order_statistics):\n",
    "    ''' Function  named print_order_statistics that takes order_statistics as a parameter. \n",
    "    Inside the function, implement the code for printing the order statistics.\n",
    "    '''\n",
    "    print (order_statistics)\n",
    "\n",
    "print_order_statistics(order_statistics)\n",
    "    \n"
   ]
  },
  {
   "cell_type": "code",
   "execution_count": 65,
   "id": "043538f7",
   "metadata": {},
   "outputs": [
    {
     "name": "stdout",
     "output_type": "stream",
     "text": [
      "{'mug': 5, 'hat': 4, 'book': 5}\n"
     ]
    }
   ],
   "source": [
    "def print_updated_inventory(inventory):\n",
    "    ''' Function  named print_updated_inventory that takes inventory as a parameter. \n",
    "    Inside the function, implement the code for printing the updated inventory.\n",
    "    '''\n",
    "    print (inventory)\n",
    "\n",
    "print_updated_inventory(inventory)\n",
    "    "
   ]
  }
 ],
 "metadata": {
  "kernelspec": {
   "display_name": "Python 3 (ipykernel)",
   "language": "python",
   "name": "python3"
  },
  "language_info": {
   "codemirror_mode": {
    "name": "ipython",
    "version": 3
   },
   "file_extension": ".py",
   "mimetype": "text/x-python",
   "name": "python",
   "nbconvert_exporter": "python",
   "pygments_lexer": "ipython3",
   "version": "3.11.5"
  }
 },
 "nbformat": 4,
 "nbformat_minor": 5
}
